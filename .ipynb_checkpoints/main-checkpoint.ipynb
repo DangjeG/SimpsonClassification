{
 "cells": [
  {
   "metadata": {
    "ExecuteTime": {
     "end_time": "2024-06-04T07:34:35.666254Z",
     "start_time": "2024-06-04T07:34:33.982874Z"
    }
   },
   "cell_type": "code",
   "source": "!pip install canaro caer",
   "id": "324b0326fa862094",
   "outputs": [
    {
     "name": "stdout",
     "output_type": "stream",
     "text": [
      "Requirement already satisfied: canaro in c:\\users\\dangje\\miniconda3\\envs\\simpsonclassification\\lib\\site-packages (1.1.0)\n",
      "Requirement already satisfied: caer in c:\\users\\dangje\\miniconda3\\envs\\simpsonclassification\\lib\\site-packages (2.0.8)\n",
      "Requirement already satisfied: tensorflow in c:\\users\\dangje\\miniconda3\\envs\\simpsonclassification\\lib\\site-packages (from canaro) (2.10.0)\n",
      "Requirement already satisfied: mypy in c:\\users\\dangje\\miniconda3\\envs\\simpsonclassification\\lib\\site-packages (from caer) (1.10.0)\n",
      "Requirement already satisfied: numpy in c:\\users\\dangje\\miniconda3\\envs\\simpsonclassification\\lib\\site-packages (from caer) (1.24.3)\n",
      "Requirement already satisfied: opencv-contrib-python in c:\\users\\dangje\\miniconda3\\envs\\simpsonclassification\\lib\\site-packages (from caer) (4.10.0.82)\n",
      "Requirement already satisfied: typing-extensions in c:\\users\\dangje\\miniconda3\\envs\\simpsonclassification\\lib\\site-packages (from caer) (4.11.0)\n",
      "Requirement already satisfied: mypy-extensions>=1.0.0 in c:\\users\\dangje\\miniconda3\\envs\\simpsonclassification\\lib\\site-packages (from mypy->caer) (1.0.0)\n",
      "Requirement already satisfied: tomli>=1.1.0 in c:\\users\\dangje\\miniconda3\\envs\\simpsonclassification\\lib\\site-packages (from mypy->caer) (2.0.1)\n",
      "Requirement already satisfied: absl-py>=1.0.0 in c:\\users\\dangje\\miniconda3\\envs\\simpsonclassification\\lib\\site-packages (from tensorflow->canaro) (2.1.0)\n",
      "Requirement already satisfied: astunparse>=1.6.0 in c:\\users\\dangje\\miniconda3\\envs\\simpsonclassification\\lib\\site-packages (from tensorflow->canaro) (1.6.3)\n",
      "Requirement already satisfied: flatbuffers>=2.0 in c:\\users\\dangje\\miniconda3\\envs\\simpsonclassification\\lib\\site-packages (from tensorflow->canaro) (2.0)\n",
      "Requirement already satisfied: gast<=0.4.0,>=0.2.1 in c:\\users\\dangje\\miniconda3\\envs\\simpsonclassification\\lib\\site-packages (from tensorflow->canaro) (0.4.0)\n",
      "Requirement already satisfied: google-pasta>=0.1.1 in c:\\users\\dangje\\miniconda3\\envs\\simpsonclassification\\lib\\site-packages (from tensorflow->canaro) (0.2.0)\n",
      "Requirement already satisfied: h5py>=2.9.0 in c:\\users\\dangje\\miniconda3\\envs\\simpsonclassification\\lib\\site-packages (from tensorflow->canaro) (3.11.0)\n",
      "Requirement already satisfied: keras-preprocessing>=1.1.1 in c:\\users\\dangje\\miniconda3\\envs\\simpsonclassification\\lib\\site-packages (from tensorflow->canaro) (1.1.2)\n",
      "Requirement already satisfied: libclang>=13.0.0 in c:\\users\\dangje\\miniconda3\\envs\\simpsonclassification\\lib\\site-packages (from tensorflow->canaro) (18.1.1)\n",
      "Requirement already satisfied: opt-einsum>=2.3.2 in c:\\users\\dangje\\miniconda3\\envs\\simpsonclassification\\lib\\site-packages (from tensorflow->canaro) (3.3.0)\n",
      "Requirement already satisfied: packaging in c:\\users\\dangje\\miniconda3\\envs\\simpsonclassification\\lib\\site-packages (from tensorflow->canaro) (23.2)\n",
      "Requirement already satisfied: protobuf<3.20,>=3.9.2 in c:\\users\\dangje\\miniconda3\\envs\\simpsonclassification\\lib\\site-packages (from tensorflow->canaro) (3.19.6)\n",
      "Requirement already satisfied: setuptools in c:\\users\\dangje\\miniconda3\\envs\\simpsonclassification\\lib\\site-packages (from tensorflow->canaro) (69.5.1)\n",
      "Requirement already satisfied: six>=1.12.0 in c:\\users\\dangje\\miniconda3\\envs\\simpsonclassification\\lib\\site-packages (from tensorflow->canaro) (1.16.0)\n",
      "Requirement already satisfied: termcolor>=1.1.0 in c:\\users\\dangje\\miniconda3\\envs\\simpsonclassification\\lib\\site-packages (from tensorflow->canaro) (2.1.0)\n",
      "Requirement already satisfied: wrapt>=1.11.0 in c:\\users\\dangje\\miniconda3\\envs\\simpsonclassification\\lib\\site-packages (from tensorflow->canaro) (1.14.1)\n",
      "Requirement already satisfied: tensorflow-io-gcs-filesystem>=0.23.1 in c:\\users\\dangje\\miniconda3\\envs\\simpsonclassification\\lib\\site-packages (from tensorflow->canaro) (0.31.0)\n",
      "Requirement already satisfied: grpcio<2.0,>=1.24.3 in c:\\users\\dangje\\miniconda3\\envs\\simpsonclassification\\lib\\site-packages (from tensorflow->canaro) (1.48.2)\n",
      "Requirement already satisfied: tensorboard<2.11,>=2.10 in c:\\users\\dangje\\miniconda3\\envs\\simpsonclassification\\lib\\site-packages (from tensorflow->canaro) (2.10.0)\n",
      "Requirement already satisfied: tensorflow-estimator<2.11,>=2.10.0 in c:\\users\\dangje\\miniconda3\\envs\\simpsonclassification\\lib\\site-packages (from tensorflow->canaro) (2.10.0)\n",
      "Requirement already satisfied: keras<2.11,>=2.10.0 in c:\\users\\dangje\\miniconda3\\envs\\simpsonclassification\\lib\\site-packages (from tensorflow->canaro) (2.10.0)\n",
      "Requirement already satisfied: wheel<1.0,>=0.23.0 in c:\\users\\dangje\\miniconda3\\envs\\simpsonclassification\\lib\\site-packages (from astunparse>=1.6.0->tensorflow->canaro) (0.43.0)\n",
      "Requirement already satisfied: google-auth<3,>=1.6.3 in c:\\users\\dangje\\miniconda3\\envs\\simpsonclassification\\lib\\site-packages (from tensorboard<2.11,>=2.10->tensorflow->canaro) (2.29.0)\n",
      "Requirement already satisfied: google-auth-oauthlib<0.5,>=0.4.1 in c:\\users\\dangje\\miniconda3\\envs\\simpsonclassification\\lib\\site-packages (from tensorboard<2.11,>=2.10->tensorflow->canaro) (0.4.4)\n",
      "Requirement already satisfied: markdown>=2.6.8 in c:\\users\\dangje\\miniconda3\\envs\\simpsonclassification\\lib\\site-packages (from tensorboard<2.11,>=2.10->tensorflow->canaro) (3.4.1)\n",
      "Requirement already satisfied: requests<3,>=2.21.0 in c:\\users\\dangje\\miniconda3\\envs\\simpsonclassification\\lib\\site-packages (from tensorboard<2.11,>=2.10->tensorflow->canaro) (2.32.2)\n",
      "Requirement already satisfied: tensorboard-data-server<0.7.0,>=0.6.0 in c:\\users\\dangje\\miniconda3\\envs\\simpsonclassification\\lib\\site-packages (from tensorboard<2.11,>=2.10->tensorflow->canaro) (0.6.1)\n",
      "Requirement already satisfied: tensorboard-plugin-wit>=1.6.0 in c:\\users\\dangje\\miniconda3\\envs\\simpsonclassification\\lib\\site-packages (from tensorboard<2.11,>=2.10->tensorflow->canaro) (1.8.1)\n",
      "Requirement already satisfied: werkzeug>=1.0.1 in c:\\users\\dangje\\miniconda3\\envs\\simpsonclassification\\lib\\site-packages (from tensorboard<2.11,>=2.10->tensorflow->canaro) (3.0.3)\n",
      "Requirement already satisfied: cachetools<6.0,>=2.0.0 in c:\\users\\dangje\\miniconda3\\envs\\simpsonclassification\\lib\\site-packages (from google-auth<3,>=1.6.3->tensorboard<2.11,>=2.10->tensorflow->canaro) (5.3.3)\n",
      "Requirement already satisfied: pyasn1-modules>=0.2.1 in c:\\users\\dangje\\miniconda3\\envs\\simpsonclassification\\lib\\site-packages (from google-auth<3,>=1.6.3->tensorboard<2.11,>=2.10->tensorflow->canaro) (0.2.8)\n",
      "Requirement already satisfied: rsa<5,>=3.1.4 in c:\\users\\dangje\\miniconda3\\envs\\simpsonclassification\\lib\\site-packages (from google-auth<3,>=1.6.3->tensorboard<2.11,>=2.10->tensorflow->canaro) (4.7.2)\n",
      "Requirement already satisfied: requests-oauthlib>=0.7.0 in c:\\users\\dangje\\miniconda3\\envs\\simpsonclassification\\lib\\site-packages (from google-auth-oauthlib<0.5,>=0.4.1->tensorboard<2.11,>=2.10->tensorflow->canaro) (1.3.0)\n",
      "Requirement already satisfied: importlib-metadata>=4.4 in c:\\users\\dangje\\miniconda3\\envs\\simpsonclassification\\lib\\site-packages (from markdown>=2.6.8->tensorboard<2.11,>=2.10->tensorflow->canaro) (7.0.1)\n",
      "Requirement already satisfied: charset-normalizer<4,>=2 in c:\\users\\dangje\\miniconda3\\envs\\simpsonclassification\\lib\\site-packages (from requests<3,>=2.21.0->tensorboard<2.11,>=2.10->tensorflow->canaro) (2.0.4)\n",
      "Requirement already satisfied: idna<4,>=2.5 in c:\\users\\dangje\\miniconda3\\envs\\simpsonclassification\\lib\\site-packages (from requests<3,>=2.21.0->tensorboard<2.11,>=2.10->tensorflow->canaro) (3.7)\n",
      "Requirement already satisfied: urllib3<3,>=1.21.1 in c:\\users\\dangje\\miniconda3\\envs\\simpsonclassification\\lib\\site-packages (from requests<3,>=2.21.0->tensorboard<2.11,>=2.10->tensorflow->canaro) (2.2.1)\n",
      "Requirement already satisfied: certifi>=2017.4.17 in c:\\users\\dangje\\miniconda3\\envs\\simpsonclassification\\lib\\site-packages (from requests<3,>=2.21.0->tensorboard<2.11,>=2.10->tensorflow->canaro) (2024.2.2)\n",
      "Requirement already satisfied: MarkupSafe>=2.1.1 in c:\\users\\dangje\\miniconda3\\envs\\simpsonclassification\\lib\\site-packages (from werkzeug>=1.0.1->tensorboard<2.11,>=2.10->tensorflow->canaro) (2.1.3)\n",
      "Requirement already satisfied: zipp>=0.5 in c:\\users\\dangje\\miniconda3\\envs\\simpsonclassification\\lib\\site-packages (from importlib-metadata>=4.4->markdown>=2.6.8->tensorboard<2.11,>=2.10->tensorflow->canaro) (3.17.0)\n",
      "Requirement already satisfied: pyasn1<0.5.0,>=0.4.6 in c:\\users\\dangje\\miniconda3\\envs\\simpsonclassification\\lib\\site-packages (from pyasn1-modules>=0.2.1->google-auth<3,>=1.6.3->tensorboard<2.11,>=2.10->tensorflow->canaro) (0.4.8)\n",
      "Requirement already satisfied: oauthlib>=3.0.0 in c:\\users\\dangje\\miniconda3\\envs\\simpsonclassification\\lib\\site-packages (from requests-oauthlib>=0.7.0->google-auth-oauthlib<0.5,>=0.4.1->tensorboard<2.11,>=2.10->tensorflow->canaro) (3.2.2)\n"
     ]
    }
   ],
   "execution_count": 11
  },
  {
   "metadata": {
    "ExecuteTime": {
     "end_time": "2024-06-04T07:32:52.678932Z",
     "start_time": "2024-06-04T07:32:50.826891Z"
    }
   },
   "cell_type": "code",
   "source": "!pip install --upgrade caer",
   "id": "49c85c4da258d7e0",
   "outputs": [
    {
     "name": "stdout",
     "output_type": "stream",
     "text": [
      "Requirement already satisfied: caer in c:\\users\\dangje\\miniconda3\\envs\\simpsonclassification\\lib\\site-packages (2.0.8)\n",
      "Requirement already satisfied: mypy in c:\\users\\dangje\\miniconda3\\envs\\simpsonclassification\\lib\\site-packages (from caer) (1.10.0)\n",
      "Requirement already satisfied: numpy in c:\\users\\dangje\\miniconda3\\envs\\simpsonclassification\\lib\\site-packages (from caer) (1.24.3)\n",
      "Requirement already satisfied: opencv-contrib-python in c:\\users\\dangje\\miniconda3\\envs\\simpsonclassification\\lib\\site-packages (from caer) (4.10.0.82)\n",
      "Requirement already satisfied: typing-extensions in c:\\users\\dangje\\miniconda3\\envs\\simpsonclassification\\lib\\site-packages (from caer) (4.11.0)\n",
      "Requirement already satisfied: mypy-extensions>=1.0.0 in c:\\users\\dangje\\miniconda3\\envs\\simpsonclassification\\lib\\site-packages (from mypy->caer) (1.0.0)\n",
      "Requirement already satisfied: tomli>=1.1.0 in c:\\users\\dangje\\miniconda3\\envs\\simpsonclassification\\lib\\site-packages (from mypy->caer) (2.0.1)\n"
     ]
    }
   ],
   "execution_count": 2
  },
  {
   "cell_type": "code",
   "id": "initial_id",
   "metadata": {
    "collapsed": true,
    "ExecuteTime": {
     "end_time": "2024-06-04T09:11:30.536015Z",
     "start_time": "2024-06-04T09:11:30.531015Z"
    }
   },
   "source": [
    "import cv2 as cv\n",
    "import caer\n",
    "import canaro\n",
    "import numpy as np\n",
    "import gc\n",
    "import os\n",
    "import tensorflow as tf\n",
    "import tensorflow as tf\n",
    "from tensorflow.keras.preprocessing.image import ImageDataGenerator\n",
    "from tensorflow.keras.applications import VGG16\n",
    "from tensorflow.keras.layers import Dense, GlobalAveragePooling2D\n",
    "from tensorflow.keras.models import Model"
   ],
   "outputs": [],
   "execution_count": 30
  },
  {
   "metadata": {
    "ExecuteTime": {
     "end_time": "2024-06-04T09:11:32.976549Z",
     "start_time": "2024-06-04T09:11:32.973549Z"
    }
   },
   "cell_type": "code",
   "source": [
    "IMG_SIZE=(180,180)\n",
    "channels= 3\n",
    "char_path=r'./the-simpsons-characters-dataset'"
   ],
   "id": "9708f3d7a729462b",
   "outputs": [],
   "execution_count": 31
  },
  {
   "metadata": {
    "ExecuteTime": {
     "end_time": "2024-06-04T09:13:44.723986Z",
     "start_time": "2024-06-04T09:13:44.718984Z"
    }
   },
   "cell_type": "code",
   "source": [
    "characters = []\n",
    "count = 0\n",
    "\n",
    "for i in os.listdir(char_path):\n",
    "    characters.append(i)\n",
    "    print(i)"
   ],
   "id": "e0eb261c8a25679c",
   "outputs": [
    {
     "name": "stdout",
     "output_type": "stream",
     "text": [
      "abraham_grampa_simpson\n",
      "agnes_skinner\n",
      "annotation.txt\n",
      "apu_nahasapeemapetilon\n",
      "barney_gumble\n",
      "bart_simpson\n",
      "carl_carlson\n",
      "charles_montgomery_burns\n",
      "chief_wiggum\n",
      "cletus_spuckler\n",
      "comic_book_guy\n",
      "disco_stu\n",
      "edna_krabappel\n",
      "fat_tony\n",
      "gil\n",
      "groundskeeper_willie\n",
      "homer_simpson\n",
      "kent_brockman\n",
      "krusty_the_clown\n",
      "lenny_leonard\n",
      "lionel_hutz\n",
      "lisa_simpson\n",
      "maggie_simpson\n",
      "marge_simpson\n",
      "martin_prince\n",
      "mayor_quimby\n",
      "milhouse_van_houten\n",
      "miss_hoover\n",
      "moe_szyslak\n",
      "ned_flanders\n",
      "nelson_muntz\n",
      "otto_mann\n",
      "patty_bouvier\n",
      "principal_skinner\n",
      "professor_john_frink\n",
      "rainier_wolfcastle\n",
      "ralph_wiggum\n",
      "selma_bouvier\n",
      "sideshow_bob\n",
      "sideshow_mel\n",
      "simpsons_dataset\n",
      "snake_jailbird\n",
      "troy_mcclure\n",
      "waylon_smithers\n"
     ]
    }
   ],
   "execution_count": 38
  },
  {
   "metadata": {
    "ExecuteTime": {
     "end_time": "2024-06-04T09:12:34.890277Z",
     "start_time": "2024-06-04T09:11:39.389134Z"
    }
   },
   "cell_type": "code",
   "source": [
    "print(char_path)\n",
    "train = caer.preprocess_from_dir(char_path, characters, channels=channels, \n",
    "                                 IMG_SIZE = IMG_SIZE, isShuffle = True)"
   ],
   "id": "81f1dfae5d7a36b9",
   "outputs": [
    {
     "name": "stdout",
     "output_type": "stream",
     "text": [
      "./the-simpsons-characters-dataset\n",
      "[INFO] Could not find a file to load from. Generating the training data\n",
      "----------------------------------------------\n",
      "[INFO] 913 files found in 0.005001068115234375s\n",
      "[INFO] 42 files found in 0.0s\n",
      "[INFO] 0 files found in 0.0s\n",
      "[INFO] 623 files found in 0.0030002593994140625s\n",
      "[INFO] 106 files found in 0.0010035037994384766s\n",
      "[INFO] At 1000 files\n",
      "[INFO] 1342 files found in 0.0049991607666015625s\n",
      "[INFO] 98 files found in 0.001001119613647461s\n",
      "[INFO] At 1000 files\n",
      "[INFO] 1193 files found in 0.003998517990112305s\n",
      "[INFO] 986 files found in 0.003999948501586914s\n",
      "[INFO] 47 files found in 0.0s\n",
      "[INFO] 469 files found in 0.0010008811950683594s\n",
      "[INFO] 8 files found in 0.0s\n",
      "[INFO] 457 files found in 0.0019996166229248047s\n",
      "[INFO] 27 files found in 0.0s\n",
      "[INFO] 27 files found in 0.0s\n",
      "[INFO] 121 files found in 0.0009999275207519531s\n",
      "[INFO] At 1000 files\n",
      "[INFO] At 2000 files\n",
      "[INFO] 2246 files found in 0.006999492645263672s\n",
      "[INFO] 498 files found in 0.002010822296142578s\n",
      "[INFO] At 1000 files\n",
      "[INFO] 1206 files found in 0.003998756408691406s\n",
      "[INFO] 310 files found in 0.0019991397857666016s\n",
      "[INFO] 3 files found in 0.0s\n",
      "[INFO] At 1000 files\n",
      "[INFO] 1354 files found in 0.005001544952392578s\n",
      "[INFO] 128 files found in 0.0s\n",
      "[INFO] At 1000 files\n",
      "[INFO] 1291 files found in 0.003997087478637695s\n",
      "[INFO] 71 files found in 0.0s\n",
      "[INFO] 246 files found in 0.001001119613647461s\n",
      "[INFO] At 1000 files\n",
      "[INFO] 1079 files found in 0.004001140594482422s\n",
      "[INFO] 17 files found in 0.0s\n",
      "[INFO] At 1000 files\n",
      "[INFO] 1452 files found in 0.005000114440917969s\n",
      "[INFO] At 1000 files\n",
      "[INFO] 1454 files found in 0.005000591278076172s\n",
      "[INFO] 358 files found in 0.0010001659393310547s\n",
      "[INFO] 32 files found in 0.0s\n",
      "[INFO] 72 files found in 0.0s\n",
      "[INFO] At 1000 files\n",
      "[INFO] 1194 files found in 0.003999948501586914s\n",
      "[INFO] 65 files found in 0.00099945068359375s\n",
      "[INFO] 45 files found in 0.0s\n",
      "[INFO] 89 files found in 0.0s\n",
      "[INFO] 103 files found in 0.00099945068359375s\n",
      "[INFO] 877 files found in 0.002999544143676758s\n",
      "[INFO] 40 files found in 0.0s\n",
      "[INFO] At 1000 files\n",
      "[INFO] At 2000 files\n",
      "[INFO] At 3000 files\n",
      "[INFO] At 4000 files\n",
      "[INFO] At 5000 files\n",
      "[INFO] At 6000 files\n",
      "[INFO] At 7000 files\n",
      "[INFO] At 8000 files\n",
      "[INFO] At 9000 files\n",
      "[INFO] At 10000 files\n",
      "[INFO] At 11000 files\n",
      "[INFO] At 12000 files\n",
      "[INFO] At 13000 files\n",
      "[INFO] At 14000 files\n",
      "[INFO] At 15000 files\n",
      "[INFO] At 16000 files\n",
      "[INFO] At 17000 files\n",
      "[INFO] At 18000 files\n",
      "[INFO] At 19000 files\n",
      "[INFO] At 20000 files\n",
      "[INFO] 20933 files found in 0.07900047302246094s\n",
      "[INFO] 55 files found in 0.0010004043579101562s\n",
      "[INFO] 8 files found in 0.0s\n",
      "[INFO] 181 files found in 0.0010001659393310547s\n",
      "----------------------------------------------\n",
      "[INFO] 41866 files preprocessed! Took 0m 55s\n"
     ]
    }
   ],
   "execution_count": 33
  },
  {
   "metadata": {
    "ExecuteTime": {
     "end_time": "2024-06-04T09:12:48.453377Z",
     "start_time": "2024-06-04T09:12:48.357378Z"
    }
   },
   "cell_type": "code",
   "source": [
    "import matplotlib.pyplot as plt\n",
    "\n",
    "plt.figure(figsize = (3,3))\n",
    "plt.imshow(train[0][0], cmap = 'gray')\n",
    "plt.show()"
   ],
   "id": "c8e682c1dc05d273",
   "outputs": [
    {
     "data": {
      "text/plain": [
       "<Figure size 300x300 with 1 Axes>"
      ],
      "image/png": "[encoded data removed]"
     },
     "metadata": {},
     "output_type": "display_data"
    }
   ],
   "execution_count": 34
  },
  {
   "metadata": {
    "ExecuteTime": {
     "end_time": "2024-06-04T09:15:34.880208Z",
     "start_time": "2024-06-04T09:15:31.860147Z"
    }
   },
   "cell_type": "code",
   "source": [
    "train_data = tf.keras.preprocessing.image_dataset_from_directory(\n",
    "    char_path,\n",
    "    batch_size=32,\n",
    "    image_size=IMG_SIZE,\n",
    "    shuffle=True,\n",
    "    color_mode='grayscale',\n",
    ")"
   ],
   "id": "168ba3b508d009a1",
   "outputs": [
    {
     "name": "stdout",
     "output_type": "stream",
     "text": [
      "Found 41866 files belonging to 43 classes.\n"
     ]
    }
   ],
   "execution_count": 42
  },
  {
   "metadata": {
    "ExecuteTime": {
     "end_time": "2024-06-04T14:12:25.894432Z",
     "start_time": "2024-06-04T14:12:25.881429Z"
    }
   },
   "cell_type": "code",
   "source": "base_model = VGG16(weights='imagenet', include_top=False)",
   "id": "dd01e92502400269",
   "outputs": [
    {
     "ename": "NameError",
     "evalue": "name 'VGG16' is not defined",
     "output_type": "error",
     "traceback": [
      "\u001B[1;31m---------------------------------------------------------------------------\u001B[0m",
      "\u001B[1;31mNameError\u001B[0m                                 Traceback (most recent call last)",
      "Cell \u001B[1;32mIn[5], line 1\u001B[0m\n\u001B[1;32m----> 1\u001B[0m base_model \u001B[38;5;241m=\u001B[39m \u001B[43mVGG16\u001B[49m(weights\u001B[38;5;241m=\u001B[39m\u001B[38;5;124m'\u001B[39m\u001B[38;5;124mimagenet\u001B[39m\u001B[38;5;124m'\u001B[39m, include_top\u001B[38;5;241m=\u001B[39m\u001B[38;5;28;01mFalse\u001B[39;00m)\n",
      "\u001B[1;31mNameError\u001B[0m: name 'VGG16' is not defined"
     ]
    }
   ],
   "execution_count": 5
  },
  {
   "metadata": {
    "ExecuteTime": {
     "end_time": "2024-06-04T14:12:24.069059Z",
     "start_time": "2024-06-04T14:12:24.052060Z"
    }
   },
   "cell_type": "code",
   "source": [
    "# Добавьте глобальный пул и плотный слой для классификации\n",
    "x = base_model.output\n",
    "x = GlobalAveragePooling2D()(x)\n",
    "x = Dense(128, activation='relu')(x)\n",
    "predictions = Dense(len(characters), activation='softmax')(x)"
   ],
   "id": "6c58be2ac5f2f746",
   "outputs": [
    {
     "ename": "NameError",
     "evalue": "name 'base_model' is not defined",
     "output_type": "error",
     "traceback": [
      "\u001B[1;31m---------------------------------------------------------------------------\u001B[0m",
      "\u001B[1;31mNameError\u001B[0m                                 Traceback (most recent call last)",
      "Cell \u001B[1;32mIn[4], line 2\u001B[0m\n\u001B[0;32m      1\u001B[0m \u001B[38;5;66;03m# Добавьте глобальный пул и плотный слой для классификации\u001B[39;00m\n\u001B[1;32m----> 2\u001B[0m x \u001B[38;5;241m=\u001B[39m \u001B[43mbase_model\u001B[49m\u001B[38;5;241m.\u001B[39moutput\n\u001B[0;32m      3\u001B[0m x \u001B[38;5;241m=\u001B[39m GlobalAveragePooling2D()(x)\n\u001B[0;32m      4\u001B[0m x \u001B[38;5;241m=\u001B[39m Dense(\u001B[38;5;241m128\u001B[39m, activation\u001B[38;5;241m=\u001B[39m\u001B[38;5;124m'\u001B[39m\u001B[38;5;124mrelu\u001B[39m\u001B[38;5;124m'\u001B[39m)(x)\n",
      "\u001B[1;31mNameError\u001B[0m: name 'base_model' is not defined"
     ]
    }
   ],
   "execution_count": 4
  },
  {
   "metadata": {
    "ExecuteTime": {
     "end_time": "2024-06-04T14:12:20.392063Z",
     "start_time": "2024-06-04T14:12:20.370051Z"
    }
   },
   "cell_type": "code",
   "source": [
    "# Создайте новую модель, используя базовую модель и добавленные слои\n",
    "model = Model(inputs=base_model.input, outputs=predictions)"
   ],
   "id": "24fbab9817f0c4d5",
   "outputs": [
    {
     "ename": "NameError",
     "evalue": "name 'Model' is not defined",
     "output_type": "error",
     "traceback": [
      "\u001B[1;31m---------------------------------------------------------------------------\u001B[0m",
      "\u001B[1;31mNameError\u001B[0m                                 Traceback (most recent call last)",
      "Cell \u001B[1;32mIn[2], line 2\u001B[0m\n\u001B[0;32m      1\u001B[0m \u001B[38;5;66;03m# Создайте новую модель, используя базовую модель и добавленные слои\u001B[39;00m\n\u001B[1;32m----> 2\u001B[0m model \u001B[38;5;241m=\u001B[39m \u001B[43mModel\u001B[49m(inputs\u001B[38;5;241m=\u001B[39mbase_model\u001B[38;5;241m.\u001B[39minput, outputs\u001B[38;5;241m=\u001B[39mpredictions)\n",
      "\u001B[1;31mNameError\u001B[0m: name 'Model' is not defined"
     ]
    }
   ],
   "execution_count": 2
  },
  {
   "metadata": {
    "ExecuteTime": {
     "end_time": "2024-06-04T14:12:22.291250Z",
     "start_time": "2024-06-04T14:12:22.277249Z"
    }
   },
   "cell_type": "code",
   "source": [
    "model.compile(optimizer='adam', loss='sparse_categorical_crossentropy', metrics=['accuracy'])\n",
    "model.fit(train_data, epochs=10)"
   ],
   "id": "223dfac75e1745db",
   "outputs": [
    {
     "ename": "NameError",
     "evalue": "name 'model' is not defined",
     "output_type": "error",
     "traceback": [
      "\u001B[1;31m---------------------------------------------------------------------------\u001B[0m",
      "\u001B[1;31mNameError\u001B[0m                                 Traceback (most recent call last)",
      "Cell \u001B[1;32mIn[3], line 1\u001B[0m\n\u001B[1;32m----> 1\u001B[0m \u001B[43mmodel\u001B[49m\u001B[38;5;241m.\u001B[39mcompile(optimizer\u001B[38;5;241m=\u001B[39m\u001B[38;5;124m'\u001B[39m\u001B[38;5;124madam\u001B[39m\u001B[38;5;124m'\u001B[39m, loss\u001B[38;5;241m=\u001B[39m\u001B[38;5;124m'\u001B[39m\u001B[38;5;124msparse_categorical_crossentropy\u001B[39m\u001B[38;5;124m'\u001B[39m, metrics\u001B[38;5;241m=\u001B[39m[\u001B[38;5;124m'\u001B[39m\u001B[38;5;124maccuracy\u001B[39m\u001B[38;5;124m'\u001B[39m])\n\u001B[0;32m      2\u001B[0m model\u001B[38;5;241m.\u001B[39mfit(train_data, epochs\u001B[38;5;241m=\u001B[39m\u001B[38;5;241m10\u001B[39m)\n",
      "\u001B[1;31mNameError\u001B[0m: name 'model' is not defined"
     ]
    }
   ],
   "execution_count": 3
  },
  {
   "metadata": {},
   "cell_type": "code",
   "outputs": [],
   "execution_count": null,
   "source": "model.save('my_model.h5')",
   "id": "9a33f144fa139c38"
  },
  {
   "metadata": {},
   "cell_type": "code",
   "outputs": [],
   "execution_count": null,
   "source": "",
   "id": "8d442b960bf5273e"
  }
 ],
 "metadata": {
  "kernelspec": {
   "display_name": "Python 3",
   "language": "python",
   "name": "python3"
  },
  "language_info": {
   "codemirror_mode": {
    "name": "ipython",
    "version": 2
   },
   "file_extension": ".py",
   "mimetype": "text/x-python",
   "name": "python",
   "nbconvert_exporter": "python",
   "pygments_lexer": "ipython2",
   "version": "2.7.6"
  }
 },
 "nbformat": 4,
 "nbformat_minor": 5
}
