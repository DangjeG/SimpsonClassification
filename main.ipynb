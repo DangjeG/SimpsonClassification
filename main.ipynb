{
 "cells": [
  {
   "metadata": {},
   "cell_type": "markdown",
   "source": "Import libraries ",
   "id": "809d37f917788565"
  },
  {
   "metadata": {
    "ExecuteTime": {
     "end_time": "2024-06-06T12:32:18.810490Z",
     "start_time": "2024-06-06T12:32:15.045452Z"
    }
   },
   "cell_type": "code",
   "source": [
    "import os\n",
    "import tensorflow as tf\n",
    "from matplotlib import pyplot as plt\n",
    "import numpy as np\n",
    "import cv2\n",
    "\n",
    "from tensorflow.keras.layers import Conv2D, Flatten, MaxPooling2D, Input, Dropout, Activation, Dense, BatchNormalization\n",
    "from keras.layers.pooling import MaxPool2D\n",
    "from keras.constraints import maxnorm\n",
    "\n",
    "from sklearn.model_selection import train_test_split\n"
   ],
   "id": "e1fb996cacc5670a",
   "outputs": [],
   "execution_count": 1
  },
  {
   "metadata": {
    "ExecuteTime": {
     "end_time": "2024-06-06T12:32:18.933489Z",
     "start_time": "2024-06-06T12:32:18.811490Z"
    }
   },
   "cell_type": "code",
   "source": "tf.config.list_physical_devices('GPU')",
   "id": "bf581e53b2afc5bb",
   "outputs": [
    {
     "data": {
      "text/plain": [
       "[PhysicalDevice(name='/physical_device:GPU:0', device_type='GPU')]"
      ]
     },
     "execution_count": 2,
     "metadata": {},
     "output_type": "execute_result"
    }
   ],
   "execution_count": 2
  },
  {
   "metadata": {},
   "cell_type": "markdown",
   "source": "Create variables",
   "id": "9b7ee5bf34a5e085"
  },
  {
   "metadata": {
    "ExecuteTime": {
     "end_time": "2024-06-06T12:32:18.937492Z",
     "start_time": "2024-06-06T12:32:18.934490Z"
    }
   },
   "cell_type": "code",
   "source": [
    "IMG_SIZE=(128,128)\n",
    "char_path=r'./characters'\n",
    "characters = {}\n",
    "images = []\n",
    "labels = []"
   ],
   "id": "c4aadd938913e33",
   "outputs": [],
   "execution_count": 3
  },
  {
   "metadata": {},
   "cell_type": "code",
   "source": [
    "num = 0\n",
    "\n",
    "for name in os.listdir(char_path):\n",
    "    characters[name] = num\n",
    "    num += 1\n",
    "\n",
    "for character in characters:\n",
    "    print(characters[character], ' ', character)"
   ],
   "id": "86b7b7158b27d400",
   "outputs": [
    {
     "name": "stdout",
     "output_type": "stream",
     "text": [
      "0   abraham_grampa_simpson\n",
      "1   agnes_skinner\n",
      "2   apu_nahasapeemapetilon\n",
      "3   barney_gumble\n",
      "4   bart_simpson\n",
      "5   carl_carlson\n",
      "6   charles_montgomery_burns\n",
      "7   chief_wiggum\n",
      "8   cletus_spuckler\n",
      "9   comic_book_guy\n",
      "10   disco_stu\n",
      "11   edna_krabappel\n",
      "12   fat_tony\n",
      "13   gil\n",
      "14   groundskeeper_willie\n",
      "15   homer_simpson\n",
      "16   kent_brockman\n",
      "17   krusty_the_clown\n",
      "18   lenny_leonard\n",
      "19   lionel_hutz\n",
      "20   lisa_simpson\n",
      "21   maggie_simpson\n",
      "22   marge_simpson\n",
      "23   martin_prince\n",
      "24   mayor_quimby\n",
      "25   milhouse_van_houten\n",
      "26   miss_hoover\n",
      "27   moe_szyslak\n",
      "28   ned_flanders\n",
      "29   nelson_muntz\n",
      "30   otto_mann\n",
      "31   patty_bouvier\n",
      "32   principal_skinner\n",
      "33   professor_john_frink\n",
      "34   rainier_wolfcastle\n",
      "35   ralph_wiggum\n",
      "36   selma_bouvier\n",
      "37   sideshow_bob\n",
      "38   sideshow_mel\n",
      "39   snake_jailbird\n",
      "40   troy_mcclure\n",
      "41   waylon_smithers\n"
     ]
    }
   ],
   "execution_count": 4
  },
  {
   "metadata": {},
   "cell_type": "markdown",
   "source": "Create dataset",
   "id": "6c01313395a7a5f7"
  },
  {
   "metadata": {
    "ExecuteTime": {
     "end_time": "2024-06-06T12:32:18.951491Z",
     "start_time": "2024-06-06T12:32:18.947490Z"
    }
   },
   "cell_type": "code",
   "source": [
    "def process_image(image):\n",
    "    \n",
    "    image = cv2.resize(image, IMG_SIZE)\n",
    "\n",
    "    return np.array(image)/ 255.0\n",
    "    "
   ],
   "id": "9fac6ec45e0ed25e",
   "outputs": [],
   "execution_count": 5
  },
  {
   "metadata": {
    "ExecuteTime": {
     "end_time": "2024-06-06T12:32:18.956489Z",
     "start_time": "2024-06-06T12:32:18.952489Z"
    }
   },
   "cell_type": "code",
   "source": [
    "def process_class(label_str):\n",
    "    \n",
    "    label = []\n",
    "    for i in range(len(characters)):\n",
    "        label.append(0.0)\n",
    "            \n",
    "    label[characters[label_str]] = 1.0\n",
    "    np.array(label)\n",
    "    return label"
   ],
   "id": "a06dd31e27451ffc",
   "outputs": [],
   "execution_count": 6
  },
  {
   "metadata": {
    "ExecuteTime": {
     "end_time": "2024-06-06T12:32:18.961492Z",
     "start_time": "2024-06-06T12:32:18.957489Z"
    }
   },
   "cell_type": "code",
   "source": [
    "def generate_images(image, x1, y1, x2, y2):\n",
    "    generated_images = [image]\n",
    "    \n",
    "    if x2 > x1 and y2 > y1:\n",
    "        generated_images.append(image[y1:y2, x1:x2])\n",
    "        \n",
    "    generated_images.append(cv2.flip(image, 1))\n",
    "    \n",
    "    generated_images.append(cv2.rotate(image, cv2.ROTATE_90_CLOCKWISE))\n",
    "    \n",
    "    generated_images.append(cv2.rotate(image, cv2.ROTATE_90_COUNTERCLOCKWISE))\n",
    "    \n",
    "    contrast = 1.5\n",
    "    generated_images.append(cv2.addWeighted(image, contrast, np.zeros(image.shape, image.dtype), 0, 0))\n",
    "    \n",
    "    return generated_images"
   ],
   "id": "3e69e58d2a1b32b1",
   "outputs": [],
   "execution_count": 7
  },
  {
   "metadata": {
    "ExecuteTime": {
     "end_time": "2024-06-06T12:33:00.817071Z",
     "start_time": "2024-06-06T12:32:18.962497Z"
    }
   },
   "cell_type": "code",
   "source": [
    "with open(\"annotations.txt\") as file:\n",
    "    for line in file:\n",
    "        path, X1, Y1, X2, Y2, class_name = line.split(\",\")\n",
    "        X1 = int(X1)\n",
    "        Y1 = int(Y1)\n",
    "        X2 = int(X2)\n",
    "        Y2 = int(Y2)\n",
    "        cleaned_name = class_name.rstrip()\n",
    "        \n",
    "        extended_images = generate_images(cv2.imread(path) , X1, Y1, X2, Y2)\n",
    "        \n",
    "        processed_class = process_class(cleaned_name)\n",
    "        \n",
    "        for elem in extended_images:\n",
    "            im = process_image(elem)\n",
    "            images.append(im)\n",
    "            labels.append(processed_class)\n",
    "            "
   ],
   "id": "3fc9fa7498c0702",
   "outputs": [],
   "execution_count": 8
  },
  {
   "metadata": {
    "ExecuteTime": {
     "end_time": "2024-06-06T12:34:03.104648Z",
     "start_time": "2024-06-06T12:33:00.819071Z"
    }
   },
   "cell_type": "code",
   "source": [
    "images = np.array(images)\n",
    "labels = np.array(labels)\n",
    "\n",
    "X_train, X_test, y_train, y_test = train_test_split(images, labels, test_size=0.15, random_state=95)"
   ],
   "id": "10132808e52df841",
   "outputs": [],
   "execution_count": 9
  },
  {
   "metadata": {
    "ExecuteTime": {
     "end_time": "2024-06-06T12:34:03.934646Z",
     "start_time": "2024-06-06T12:34:03.126647Z"
    }
   },
   "cell_type": "code",
   "source": [
    "del images\n",
    "del labels\n",
    "print(X_train.shape)\n",
    "print(y_test.shape)"
   ],
   "id": "b482fb64f582d508",
   "outputs": [
    {
     "name": "stdout",
     "output_type": "stream",
     "text": [
      "(34396, 128, 128, 3)\n",
      "(6071, 42)\n"
     ]
    }
   ],
   "execution_count": 10
  },
  {
   "metadata": {
    "ExecuteTime": {
     "end_time": "2024-06-06T12:34:03.945647Z",
     "start_time": "2024-06-06T12:34:03.936648Z"
    }
   },
   "cell_type": "code",
   "source": [
    "def get_name(class_marks):\n",
    "    \n",
    "    i = 0\n",
    "    for mark in class_marks:\n",
    "        if mark == 1.0:\n",
    "            break\n",
    "        else: i = i + 1\n",
    "    \n",
    "    for character in characters:\n",
    "        if characters[character] == i:\n",
    "            return character\n",
    "    return ' '"
   ],
   "id": "7d772d20dd398bd6",
   "outputs": [],
   "execution_count": 11
  },
  {
   "metadata": {
    "ExecuteTime": {
     "end_time": "2024-06-06T12:34:04.405647Z",
     "start_time": "2024-06-06T12:34:03.946648Z"
    }
   },
   "cell_type": "code",
   "source": [
    "img = tf.keras.preprocessing.image.array_to_img(X_train[103])\n",
    "plt.figure(figsize = (3,3))\n",
    "plt.imshow(img)\n",
    "plt.show()\n",
    "print(get_name(y_train[103]))"
   ],
   "id": "a395d456715719fe",
   "outputs": [
    {
     "data": {
      "text/plain": [
       "<Figure size 300x300 with 1 Axes>"
      ],
      "image/png": "[encoded data removed]"
     },
     "metadata": {},
     "output_type": "display_data"
    },
    {
     "name": "stdout",
     "output_type": "stream",
     "text": [
      "charles_montgomery_burns\n"
     ]
    }
   ],
   "execution_count": 12
  },
  {
   "metadata": {},
   "cell_type": "markdown",
   "source": "Create Model",
   "id": "101069f33bbc2548"
  },
  {
   "metadata": {
    "ExecuteTime": {
     "end_time": "2024-06-06T12:35:39.474495Z",
     "start_time": "2024-06-06T12:34:04.406646Z"
    }
   },
   "cell_type": "code",
   "source": [
    "model = tf.keras.models.Sequential([\n",
    "    \n",
    "    Conv2D(64, (3, 3), padding='same', input_shape=X_train.shape[1:]),\n",
    "    Activation('relu'),\n",
    "    MaxPooling2D((2, 2)),\n",
    "    Dropout(0.2),\n",
    "    BatchNormalization(),\n",
    "\n",
    "    Conv2D(128, (3, 3), padding='same', input_shape=X_train.shape[1:]),\n",
    "    Activation('relu'),\n",
    "    MaxPooling2D((2, 2)),\n",
    "    Dropout(0.2),\n",
    "    BatchNormalization(),\n",
    "\n",
    "    Conv2D(256, (3, 3), padding='same', input_shape=X_train.shape[1:]),\n",
    "    Activation('relu'),\n",
    "    MaxPooling2D((2, 2)),\n",
    "    Dropout(0.2),\n",
    "    BatchNormalization(),\n",
    "\n",
    "    Conv2D(512, (3, 3), padding='same', input_shape=X_train.shape[1:]),\n",
    "    Activation('relu'),\n",
    "    MaxPooling2D((2, 2)),\n",
    "    Dropout(0.2),\n",
    "    BatchNormalization(),\n",
    "\n",
    "    Conv2D(1024, (3, 3), padding='same', input_shape=X_train.shape[1:]),\n",
    "    Activation('relu'),\n",
    "    MaxPooling2D((2, 2)),\n",
    "    Dropout(0.2),\n",
    "    BatchNormalization(),\n",
    "\n",
    "    Flatten(),\n",
    "    Dropout(0.2),\n",
    "\n",
    "    Dense(1024, kernel_constraint=maxnorm(3)),\n",
    "    Activation('relu'),\n",
    "    Dropout(0.2),\n",
    "    BatchNormalization(),\n",
    "    Dense(512, kernel_constraint=maxnorm(3)),\n",
    "    Activation('relu'),\n",
    "    Dropout(0.2),\n",
    "    BatchNormalization(),\n",
    "    Dense(256, kernel_constraint=maxnorm(3)),\n",
    "    Activation('relu'),\n",
    "    Dropout(0.2),\n",
    "    BatchNormalization(),\n",
    "    Dense(128, kernel_constraint=maxnorm(3)),\n",
    "    Activation('relu'),\n",
    "    Dropout(0.2),\n",
    "    BatchNormalization(),\n",
    "\n",
    "    Dense(y_test.shape[1]),\n",
    "    Activation('softmax'),\n",
    "])\n",
    "\n",
    "\n",
    "model.compile(\n",
    "    optimizer='adam',\n",
    "    loss='categorical_crossentropy',\n",
    "    metrics=['accuracy']\n",
    ")\n",
    "\n",
    "model.build()\n",
    "\n",
    "print(model.summary())"
   ],
   "id": "314dbfe6870de48e",
   "outputs": [
    {
     "name": "stdout",
     "output_type": "stream",
     "text": [
      "Model: \"sequential\"\n",
      "_________________________________________________________________\n",
      "Layer (type)                 Output Shape              Param #   \n",
      "=================================================================\n",
      "conv2d (Conv2D)              (None, 128, 128, 64)      1792      \n",
      "_________________________________________________________________\n",
      "activation (Activation)      (None, 128, 128, 64)      0         \n",
      "_________________________________________________________________\n",
      "max_pooling2d (MaxPooling2D) (None, 64, 64, 64)        0         \n",
      "_________________________________________________________________\n",
      "dropout (Dropout)            (None, 64, 64, 64)        0         \n",
      "_________________________________________________________________\n",
      "batch_normalization (BatchNo (None, 64, 64, 64)        256       \n",
      "_________________________________________________________________\n",
      "conv2d_1 (Conv2D)            (None, 64, 64, 128)       73856     \n",
      "_________________________________________________________________\n",
      "activation_1 (Activation)    (None, 64, 64, 128)       0         \n",
      "_________________________________________________________________\n",
      "max_pooling2d_1 (MaxPooling2 (None, 32, 32, 128)       0         \n",
      "_________________________________________________________________\n",
      "dropout_1 (Dropout)          (None, 32, 32, 128)       0         \n",
      "_________________________________________________________________\n",
      "batch_normalization_1 (Batch (None, 32, 32, 128)       512       \n",
      "_________________________________________________________________\n",
      "conv2d_2 (Conv2D)            (None, 32, 32, 256)       295168    \n",
      "_________________________________________________________________\n",
      "activation_2 (Activation)    (None, 32, 32, 256)       0         \n",
      "_________________________________________________________________\n",
      "max_pooling2d_2 (MaxPooling2 (None, 16, 16, 256)       0         \n",
      "_________________________________________________________________\n",
      "dropout_2 (Dropout)          (None, 16, 16, 256)       0         \n",
      "_________________________________________________________________\n",
      "batch_normalization_2 (Batch (None, 16, 16, 256)       1024      \n",
      "_________________________________________________________________\n",
      "conv2d_3 (Conv2D)            (None, 16, 16, 512)       1180160   \n",
      "_________________________________________________________________\n",
      "activation_3 (Activation)    (None, 16, 16, 512)       0         \n",
      "_________________________________________________________________\n",
      "max_pooling2d_3 (MaxPooling2 (None, 8, 8, 512)         0         \n",
      "_________________________________________________________________\n",
      "dropout_3 (Dropout)          (None, 8, 8, 512)         0         \n",
      "_________________________________________________________________\n",
      "batch_normalization_3 (Batch (None, 8, 8, 512)         2048      \n",
      "_________________________________________________________________\n",
      "conv2d_4 (Conv2D)            (None, 8, 8, 1024)        4719616   \n",
      "_________________________________________________________________\n",
      "activation_4 (Activation)    (None, 8, 8, 1024)        0         \n",
      "_________________________________________________________________\n",
      "max_pooling2d_4 (MaxPooling2 (None, 4, 4, 1024)        0         \n",
      "_________________________________________________________________\n",
      "dropout_4 (Dropout)          (None, 4, 4, 1024)        0         \n",
      "_________________________________________________________________\n",
      "batch_normalization_4 (Batch (None, 4, 4, 1024)        4096      \n",
      "_________________________________________________________________\n",
      "flatten (Flatten)            (None, 16384)             0         \n",
      "_________________________________________________________________\n",
      "dropout_5 (Dropout)          (None, 16384)             0         \n",
      "_________________________________________________________________\n",
      "dense (Dense)                (None, 1024)              16778240  \n",
      "_________________________________________________________________\n",
      "activation_5 (Activation)    (None, 1024)              0         \n",
      "_________________________________________________________________\n",
      "dropout_6 (Dropout)          (None, 1024)              0         \n",
      "_________________________________________________________________\n",
      "batch_normalization_5 (Batch (None, 1024)              4096      \n",
      "_________________________________________________________________\n",
      "dense_1 (Dense)              (None, 512)               524800    \n",
      "_________________________________________________________________\n",
      "activation_6 (Activation)    (None, 512)               0         \n",
      "_________________________________________________________________\n",
      "dropout_7 (Dropout)          (None, 512)               0         \n",
      "_________________________________________________________________\n",
      "batch_normalization_6 (Batch (None, 512)               2048      \n",
      "_________________________________________________________________\n",
      "dense_2 (Dense)              (None, 256)               131328    \n",
      "_________________________________________________________________\n",
      "activation_7 (Activation)    (None, 256)               0         \n",
      "_________________________________________________________________\n",
      "dropout_8 (Dropout)          (None, 256)               0         \n",
      "_________________________________________________________________\n",
      "batch_normalization_7 (Batch (None, 256)               1024      \n",
      "_________________________________________________________________\n",
      "dense_3 (Dense)              (None, 128)               32896     \n",
      "_________________________________________________________________\n",
      "activation_8 (Activation)    (None, 128)               0         \n",
      "_________________________________________________________________\n",
      "dropout_9 (Dropout)          (None, 128)               0         \n",
      "_________________________________________________________________\n",
      "batch_normalization_8 (Batch (None, 128)               512       \n",
      "_________________________________________________________________\n",
      "dense_4 (Dense)              (None, 42)                5418      \n",
      "_________________________________________________________________\n",
      "activation_9 (Activation)    (None, 42)                0         \n",
      "=================================================================\n",
      "Total params: 23,758,890\n",
      "Trainable params: 23,751,082\n",
      "Non-trainable params: 7,808\n",
      "_________________________________________________________________\n",
      "None\n"
     ]
    }
   ],
   "execution_count": 13
  },
  {
   "metadata": {
    "ExecuteTime": {
     "end_time": "2024-06-06T12:55:29.730060Z",
     "start_time": "2024-06-06T12:35:39.480495Z"
    }
   },
   "cell_type": "code",
   "source": [
    "history = model.fit(\n",
    "    X_train,\n",
    "    y_train,\n",
    "    epochs=25,\n",
    "    validation_data=(X_test, y_test), \n",
    "    batch_size=32,\n",
    ")"
   ],
   "id": "4dc39004c7666201",
   "outputs": [
    {
     "name": "stdout",
     "output_type": "stream",
     "text": [
      "Epoch 1/25\n",
      "   1/1075 [..............................] - ETA: 0s - loss: 3.7377 - accuracy: 0.0312WARNING:tensorflow:Callbacks method `on_train_batch_end` is slow compared to the batch time (batch time: 0.0080s vs `on_train_batch_end` time: 0.0260s). Check your callbacks.\n",
      "1075/1075 [==============================] - 39s 36ms/step - loss: 2.8361 - accuracy: 0.0920 - val_loss: 2.7727 - val_accuracy: 0.0883\n",
      "Epoch 2/25\n",
      "1075/1075 [==============================] - 37s 35ms/step - loss: 2.7752 - accuracy: 0.0908 - val_loss: 2.7708 - val_accuracy: 0.1029\n",
      "Epoch 3/25\n",
      "1075/1075 [==============================] - 37s 34ms/step - loss: 2.7751 - accuracy: 0.0903 - val_loss: 2.7710 - val_accuracy: 0.1029\n",
      "Epoch 4/25\n",
      "1075/1075 [==============================] - 37s 34ms/step - loss: 2.7751 - accuracy: 0.0889 - val_loss: 2.7697 - val_accuracy: 0.1029\n",
      "Epoch 5/25\n",
      "1075/1075 [==============================] - 38s 35ms/step - loss: 2.7746 - accuracy: 0.0893 - val_loss: 2.7698 - val_accuracy: 0.0858\n",
      "Epoch 6/25\n",
      "1075/1075 [==============================] - 38s 36ms/step - loss: 2.7737 - accuracy: 0.0924 - val_loss: 2.7702 - val_accuracy: 0.0883\n",
      "Epoch 7/25\n",
      "1075/1075 [==============================] - 37s 35ms/step - loss: 2.7734 - accuracy: 0.0907 - val_loss: 2.7685 - val_accuracy: 0.0883\n",
      "Epoch 8/25\n",
      "1075/1075 [==============================] - 37s 35ms/step - loss: 2.7733 - accuracy: 0.0928 - val_loss: 2.7706 - val_accuracy: 0.0883\n",
      "Epoch 9/25\n",
      "1075/1075 [==============================] - 37s 35ms/step - loss: 2.7731 - accuracy: 0.0931 - val_loss: 2.7698 - val_accuracy: 0.1029\n",
      "Epoch 10/25\n",
      "1075/1075 [==============================] - 37s 35ms/step - loss: 2.7731 - accuracy: 0.0943 - val_loss: 2.7703 - val_accuracy: 0.0883\n",
      "Epoch 11/25\n",
      "1075/1075 [==============================] - 37s 34ms/step - loss: 2.7730 - accuracy: 0.0915 - val_loss: 2.7682 - val_accuracy: 0.0858\n",
      "Epoch 12/25\n",
      "1075/1075 [==============================] - 37s 34ms/step - loss: 2.7729 - accuracy: 0.0917 - val_loss: 2.7674 - val_accuracy: 0.1029\n",
      "Epoch 13/25\n",
      "1075/1075 [==============================] - 37s 35ms/step - loss: 2.7726 - accuracy: 0.0947 - val_loss: 2.7682 - val_accuracy: 0.1029\n",
      "Epoch 14/25\n",
      "1075/1075 [==============================] - 37s 35ms/step - loss: 2.7726 - accuracy: 0.0935 - val_loss: 2.7683 - val_accuracy: 0.1029\n",
      "Epoch 15/25\n",
      "1075/1075 [==============================] - 37s 35ms/step - loss: 2.7724 - accuracy: 0.0922 - val_loss: 2.7681 - val_accuracy: 0.1029\n",
      "Epoch 16/25\n",
      "1075/1075 [==============================] - 37s 35ms/step - loss: 2.7725 - accuracy: 0.0908 - val_loss: 2.7677 - val_accuracy: 0.1029\n",
      "Epoch 17/25\n",
      "1075/1075 [==============================] - 37s 35ms/step - loss: 2.7722 - accuracy: 0.0927 - val_loss: 2.7704 - val_accuracy: 0.0883\n",
      "Epoch 18/25\n",
      "1075/1075 [==============================] - 37s 35ms/step - loss: 2.7722 - accuracy: 0.0941 - val_loss: 2.7682 - val_accuracy: 0.0889\n",
      "Epoch 19/25\n",
      "1075/1075 [==============================] - 37s 35ms/step - loss: 2.7721 - accuracy: 0.0925 - val_loss: 2.7685 - val_accuracy: 0.1029\n",
      "Epoch 20/25\n",
      "1075/1075 [==============================] - 37s 35ms/step - loss: 2.7721 - accuracy: 0.0946 - val_loss: 2.7700 - val_accuracy: 0.0858\n",
      "Epoch 21/25\n",
      "1075/1075 [==============================] - 35s 33ms/step - loss: 2.7720 - accuracy: 0.0935 - val_loss: 2.7692 - val_accuracy: 0.0883\n",
      "Epoch 22/25\n",
      "1075/1075 [==============================] - 35s 33ms/step - loss: 2.7722 - accuracy: 0.0923 - val_loss: 2.7674 - val_accuracy: 0.1029\n",
      "Epoch 23/25\n",
      "1075/1075 [==============================] - 35s 33ms/step - loss: 2.7718 - accuracy: 0.0936 - val_loss: 2.7679 - val_accuracy: 0.0883\n",
      "Epoch 24/25\n",
      "1075/1075 [==============================] - 35s 33ms/step - loss: 2.7720 - accuracy: 0.0941 - val_loss: 2.7679 - val_accuracy: 0.0883\n",
      "Epoch 25/25\n",
      "1075/1075 [==============================] - 35s 33ms/step - loss: 2.7719 - accuracy: 0.0938 - val_loss: 2.7678 - val_accuracy: 0.1029\n"
     ]
    }
   ],
   "execution_count": 14
  },
  {
   "metadata": {
    "ExecuteTime": {
     "end_time": "2024-06-06T12:55:30.875061Z",
     "start_time": "2024-06-06T12:55:29.733061Z"
    }
   },
   "cell_type": "code",
   "source": [
    "scores = model.evaluate(X_test, y_test, verbose=0)\n",
    "print(\"Accuracy: %.2f%%\" % (scores[1]*100))"
   ],
   "id": "13ab9b759235353e",
   "outputs": [
    {
     "name": "stdout",
     "output_type": "stream",
     "text": [
      "Accuracy: 10.29%\n"
     ]
    }
   ],
   "execution_count": 15
  },
  {
   "metadata": {
    "ExecuteTime": {
     "end_time": "2024-06-06T12:55:31.054063Z",
     "start_time": "2024-06-06T12:55:30.876062Z"
    }
   },
   "cell_type": "code",
   "source": [
    "loss = history.history['loss']\n",
    "val_loss = history.history['val_loss']\n",
    "\n",
    "epochs = range(1, len(loss) + 1)\n",
    "plt.figure()\n",
    "plt.plot(epochs, loss, 'bo', label='Training loss')\n",
    "plt.plot(epochs, val_loss, 'b', label='Validation loss')\n",
    "plt.title('Training and validation loss')\n",
    "plt.legend()\n",
    "plt.show()"
   ],
   "id": "11dc8ebc6d29a5bb",
   "outputs": [
    {
     "data": {
      "text/plain": [
       "<Figure size 640x480 with 1 Axes>"
      ],
      "image/png": "[encoded data removed]"
     },
     "metadata": {},
     "output_type": "display_data"
    }
   ],
   "execution_count": 16
  },
  {
   "metadata": {
    "ExecuteTime": {
     "end_time": "2024-06-06T12:58:20.349417Z",
     "start_time": "2024-06-06T12:58:19.784884Z"
    }
   },
   "cell_type": "code",
   "source": "model.save('my_model.h5')",
   "id": "db23a08fa74944f1",
   "outputs": [],
   "execution_count": 19
  },
  {
   "metadata": {
    "ExecuteTime": {
     "end_time": "2024-06-06T12:55:31.066063Z",
     "start_time": "2024-06-06T12:55:31.063062Z"
    }
   },
   "cell_type": "code",
   "source": "#new_model = tf.keras.models.load_model('my_model.h5')",
   "id": "9c591b599ad0953e",
   "outputs": [],
   "execution_count": 18
  }
 ],
 "metadata": {
  "kernelspec": {
   "display_name": "Python (GPU)",
   "language": "python",
   "name": "simpsonclassification"
  },
  "language_info": {
   "codemirror_mode": {
    "name": "ipython",
    "version": 2
   },
   "file_extension": ".py",
   "mimetype": "text/x-python",
   "name": "python",
   "nbconvert_exporter": "python",
   "pygments_lexer": "ipython2",
   "version": "2.7.6"
  }
 },
 "nbformat": 4,
 "nbformat_minor": 5
}
